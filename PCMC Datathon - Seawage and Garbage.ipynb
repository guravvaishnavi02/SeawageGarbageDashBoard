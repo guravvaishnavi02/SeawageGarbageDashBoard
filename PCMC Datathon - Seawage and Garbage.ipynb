{
 "cells": [
  {
   "cell_type": "code",
   "execution_count": 40,
   "id": "0d186000",
   "metadata": {},
   "outputs": [
    {
     "name": "stdout",
     "output_type": "stream",
     "text": [
      "Requirement already satisfied: pandas-bokeh in c:\\users\\admin\\miniconda3\\lib\\site-packages (0.5.5)\n",
      "Requirement already satisfied: bokeh>=2.0 in c:\\users\\admin\\miniconda3\\lib\\site-packages (from pandas-bokeh) (2.4.2)\n",
      "Requirement already satisfied: pandas>=0.22.0 in c:\\users\\admin\\miniconda3\\lib\\site-packages (from pandas-bokeh) (1.3.5)\n",
      "Requirement already satisfied: PyYAML>=3.10 in c:\\users\\admin\\miniconda3\\lib\\site-packages (from bokeh>=2.0->pandas-bokeh) (6.0)\n",
      "Requirement already satisfied: typing-extensions>=3.10.0 in c:\\users\\admin\\miniconda3\\lib\\site-packages (from bokeh>=2.0->pandas-bokeh) (4.0.1)\n",
      "Requirement already satisfied: packaging>=16.8 in c:\\users\\admin\\miniconda3\\lib\\site-packages (from bokeh>=2.0->pandas-bokeh) (21.3)\n",
      "Requirement already satisfied: pillow>=7.1.0 in c:\\users\\admin\\miniconda3\\lib\\site-packages (from bokeh>=2.0->pandas-bokeh) (8.4.0)\n",
      "Requirement already satisfied: Jinja2>=2.9 in c:\\users\\admin\\miniconda3\\lib\\site-packages (from bokeh>=2.0->pandas-bokeh) (3.0.3)\n",
      "Requirement already satisfied: numpy>=1.11.3 in c:\\users\\admin\\miniconda3\\lib\\site-packages (from bokeh>=2.0->pandas-bokeh) (1.21.2)\n",
      "Requirement already satisfied: tornado>=5.1 in c:\\users\\admin\\miniconda3\\lib\\site-packages (from bokeh>=2.0->pandas-bokeh) (6.1)\n",
      "Requirement already satisfied: MarkupSafe>=2.0 in c:\\users\\admin\\miniconda3\\lib\\site-packages (from Jinja2>=2.9->bokeh>=2.0->pandas-bokeh) (2.0.1)\n",
      "Requirement already satisfied: pyparsing!=3.0.5,>=2.0.2 in c:\\users\\admin\\miniconda3\\lib\\site-packages (from packaging>=16.8->bokeh>=2.0->pandas-bokeh) (3.0.6)\n",
      "Requirement already satisfied: python-dateutil>=2.7.3 in c:\\users\\admin\\miniconda3\\lib\\site-packages (from pandas>=0.22.0->pandas-bokeh) (2.8.2)\n",
      "Requirement already satisfied: pytz>=2017.3 in c:\\users\\admin\\miniconda3\\lib\\site-packages (from pandas>=0.22.0->pandas-bokeh) (2020.1)\n",
      "Requirement already satisfied: six>=1.5 in c:\\users\\admin\\miniconda3\\lib\\site-packages (from python-dateutil>=2.7.3->pandas>=0.22.0->pandas-bokeh) (1.16.0)\n"
     ]
    }
   ],
   "source": [
    "!pip install pandas-bokeh\n",
    "import pandas as pd\n",
    "import numpy as np\n",
    "import matplotlib.pyplot as plt\n",
    "import matplotlib\n",
    "import seaborn as sns\n",
    "import pandas_bokeh"
   ]
  },
  {
   "cell_type": "code",
   "execution_count": 41,
   "id": "587a8fc6",
   "metadata": {},
   "outputs": [],
   "source": [
    "colors=['#FDE724','#D01C8B','#4DAC26']"
   ]
  },
  {
   "cell_type": "code",
   "execution_count": 42,
   "id": "5b9e6b4c",
   "metadata": {},
   "outputs": [],
   "source": [
    "df1 = pd.read_csv(\"CTPT.csv\", delimiter=\"\\t\")\n",
    "df2 = pd.read_csv(\"D04-Environment.csv\")\n",
    "df3 = pd.read_csv(\"D11-sewerage_network.csv\")\n",
    "df4 = pd.read_csv(\"D12-SolidWasteManagement-Generated-Collected-Processed.csv\")\n",
    "df5 = pd.read_csv(\"D13-SolidWasteManagement_Efficiency_Pimpri_Chinchwad.csv\")\n",
    "df6 = pd.read_csv(\"D14-SolidWaste-Segregation_1_PimpriChinchwad_1.csv\")\n",
    "df7 = pd.read_csv(\"D15-SolidWaste-D2DCollectionRevenue_1_PimpriChinchwad_1.csv\")\n",
    "df8 = pd.read_csv(\"D16-SolidWaste-CollectionEquipment_1_PimpriChinchwad_1.csv\")\n",
    "df9 = pd.read_csv(\"D17-SolidWaste-CollectionVehicle_1_PimpriChinchwad.csv\")\n",
    "df10 = pd.read_csv(\"D18-SolidWaste-Processing.csv\")\n",
    "df11 = pd.read_csv(\"D19-Solid-Waste-Disposal.csv\")\n",
    "df12 = pd.read_csv(\"D20-Solid-Waste-Management-Revenue-1-2015-2018-Pimpri-Chinchwad_1.csv\")\n",
    "df13 = pd.read_csv(\"D65_Public_Toilets_Coverage.csv\")\n",
    "df14 = pd.read_csv(\"D71_Solid-Waste-Management_Recycled.csv\") #empty file no use"
   ]
  },
  {
   "cell_type": "code",
   "execution_count": 43,
   "id": "6112cb5a",
   "metadata": {
    "scrolled": true
   },
   "outputs": [],
   "source": [
    "# SolidWasteManagement_Efficiency_Pimpri_Chinchwad\n",
    "# Average quantum of MSW that is processed or recycled (in Metric tonnes)\n",
    "df5 = df5.iloc[:,-3:]\n",
    "df5.rename(columns = {'Average quantum of MSW that is processed or recycled (in Metric tonnes) - 2015-16':'2015-16',\n",
    "                              'Average quantum of MSW that is processed or recycled (in Metric tonnes) - 2016-17':'2016-17',\n",
    "                              'Average quantum of MSW that is processed or recycled (in Metric tonnes) - 2017-18':'2017-18'}, \n",
    "                   inplace = True)\n",
    "p1 = df5.plot_bokeh(kind=\"bar\",colormap=colors,show_figure=False)"
   ]
  },
  {
   "cell_type": "code",
   "execution_count": 44,
   "id": "9e94fd90",
   "metadata": {
    "scrolled": true
   },
   "outputs": [
    {
     "name": "stdout",
     "output_type": "stream",
     "text": [
      "__x__values_original\n"
     ]
    }
   ],
   "source": [
    "# SolidWaste-Processing\n",
    "df10.drop(\"City Name\", axis = 1)\n",
    "df10a = df10.groupby(\"Type of Waste- organic-inorganic-wet-dry-mix\").sum()  \n",
    "df10a.drop(\"Power generated by Waste-to-Energy initiative-in MW\", axis = 1)\n",
    "p2 = df10a.plot_bokeh(y=\"Plant capacity-TPD\",kind=\"pie\",colormap=colors,show_figure=False)"
   ]
  },
  {
   "cell_type": "code",
   "execution_count": 45,
   "id": "84a81b85",
   "metadata": {},
   "outputs": [
    {
     "name": "stdout",
     "output_type": "stream",
     "text": [
      "__x__values_original\n"
     ]
    }
   ],
   "source": [
    "# Solid-Waste-Disposal\n",
    "df11.drop([\"CityName\",\"DisposalsiteorSLF\",\"Distancefromcitycenter\"] , axis = 1)\n",
    "df11.set_index(\"Operationalsince\", inplace = True)\n",
    "p3 = df11.plot_bokeh(y=\"Quantity-TPD\",kind=\"pie\",colormap=colors,show_figure=False)"
   ]
  },
  {
   "cell_type": "code",
   "execution_count": 46,
   "id": "00ee0b21",
   "metadata": {},
   "outputs": [],
   "source": [
    "# Environment\n",
    "df2 = df2.dropna(axis = 1)\n",
    "df2.drop([\"City Name\"] , axis = 1)\n",
    "p4 = df2.plot_bokeh(x = \"Month -Year\", kind=\"bar\",colormap=colors,show_figure=False)"
   ]
  },
  {
   "cell_type": "code",
   "execution_count": 47,
   "id": "05886d92",
   "metadata": {},
   "outputs": [],
   "source": [
    "# Solid-Waste-Management-Revenue-1-2015-2018-Pimpri-Chinchwad_1\n",
    "df12 = df12.loc[:, (df12 != 0).any(axis=0)]\n",
    "df12 = df12.drop([\"City Name\"] , axis = 1)\n",
    "df12a = df12[[\"Year\", \"Waste Generation (in TPD)\"]].copy()\n",
    "p5 = df12a.plot_bokeh(x = \"Year\", kind=\"bar\",colormap=colors,show_figure=False)"
   ]
  },
  {
   "cell_type": "code",
   "execution_count": 48,
   "id": "e30ab0c4",
   "metadata": {},
   "outputs": [],
   "source": [
    "df12 = df12.drop([\"Waste Generation (in TPD)\"] , axis = 1)\n",
    "df12[\"Annual Expenditure (in Lakhs) - Collection Transportation Cost\"] = df12[\"Annual Expenditure (in Lakhs) - Collection Transportation Cost\"] * 100000\n",
    "p6 = df12.plot_bokeh(x = \"Year\", kind=\"bar\",colormap=colors,show_figure=False)"
   ]
  },
  {
   "cell_type": "code",
   "execution_count": 49,
   "id": "019b8187",
   "metadata": {},
   "outputs": [],
   "source": [
    "# Sewerage_network\n",
    "df3.drop([\"City Name\", \"Ward Name\"], axis = 1)\n",
    "df3a = df3.groupby(\"Zone Name\").sum()  \n",
    "\n",
    "\n",
    "df3b = df3a[\"Total number of households-HH\"] - df3a[\"HH part of the city sewerage network\"]\n",
    "p7 = df3b.plot_bokeh(kind=\"bar\",colormap=colors,show_figure=False)\n",
    "\n",
    "df3a1 = df3a.drop([\"Ward Name\",\"Ward No\",\"Total number of households-HH\",\n",
    "          \"HH part of the city sewerage network\",\n",
    "          \"Number of Households with toilets\"], axis = 1)\n",
    "p8 = df3a1.plot_bokeh(kind=\"bar\",colormap=colors,show_figure=False)"
   ]
  },
  {
   "cell_type": "code",
   "execution_count": 50,
   "id": "259e729a",
   "metadata": {},
   "outputs": [],
   "source": [
    "# SolidWasteManagement-Generated-Collected-Processed\n",
    "df4.drop(df4.tail(2).index,inplace=True)\n",
    "df4 = df4.drop([\"City Name\", \"Ward Name\"], axis = 1)\n",
    "df4[\"Ward No\"] = df4[\"Ward No\"].apply(np.int64)\n",
    "df4a = df4.groupby(\"Zone Name\").sum()  \n",
    "df4a.drop([\"Ward No\"], axis=1)\n",
    "df4a = df4a[\"Total No. of households-establishments\"] - df4a[\"HH covered with Source Seggeratation \"]\n",
    "p9 = df4a.plot_bokeh(kind=\"bar\",colormap=colors,show_figure=False)"
   ]
  },
  {
   "cell_type": "code",
   "execution_count": 51,
   "id": "b3f7ee1c",
   "metadata": {},
   "outputs": [],
   "source": [
    "# SolidWaste-Segregation_1_PimpriChinchwad_1\n",
    "df6.rename(columns={'Ward name': 'Ward No'})\n",
    "df6.drop(\"City Name\", axis = 1)\n",
    "df6a = df6.groupby(\"Zone Name\").sum()  \n",
    "p10 = df6a.plot_bokeh(y=[\"Number of HH\",\"No. of Households with waste segregation\"],\n",
    "                     kind=\"bar\",colormap=colors,show_figure=False)\n",
    "p11 = df6a.plot_bokeh(y= \"Waste quantity (Tonnes Per Day)\",\n",
    "                     kind=\"bar\",colormap=colors,show_figure=False)"
   ]
  },
  {
   "cell_type": "code",
   "execution_count": 52,
   "id": "52903545",
   "metadata": {},
   "outputs": [],
   "source": [
    "# SolidWaste-D2DCollectionRevenue_1_PimpriChinchwad_1\n",
    "df7.drop([\"User Charge Collection - Whether user charges imposed (Y/N)\",\n",
    "         \"User Charge Collection - Rate (in INR)\",\n",
    "         \"User Charge Collection - Monthly revenue collected (in lakhs)\"], axis = 1)\n",
    "p12 = df7.plot_bokeh(x =\"Ward name\" , y=\"Door to Door (D2D) collection Status - No of Households (HH)\",\n",
    "                     kind=\"bar\",colormap=colors,show_figure=False)"
   ]
  },
  {
   "cell_type": "code",
   "execution_count": 53,
   "id": "baa987ee",
   "metadata": {},
   "outputs": [],
   "source": [
    "# SolidWaste-CollectionEquipment_1_PimpriChinchwad_1\n",
    "df8.drop([\"Community bins/ compactor bins/ Dhalaos etc-Commercial Waste quantity (TPD)\",\n",
    "          \"Community bins/ compactor bins/ Dhalaos etc-Size of bins/ containers (L)\",\n",
    "          \"Community bins/ compactor bins/ Dhalaos etc-Type of community bins/ compactor bins provided\",\n",
    "          \"Community bins/ compactor bins/ Dhalaos etc-Year of purchase\",\n",
    "         \"Bins-Size of street bins (in litres)\",\n",
    "         \"Bins-Street sweeping waste (TPD)\",\n",
    "         \"Ward name\", \"City Name\"], axis = 1)\n",
    "\n",
    "p13 = df8.groupby(\"Zone Name\").sum().plot_bokeh(y=\"Bins-No of street bins\",\n",
    "                     kind=\"bar\",colormap=colors,show_figure=False)\n",
    "p14 = df8.groupby(\"Zone Name\").sum().plot_bokeh(y=\"Community bins/ compactor bins/ Dhalaos etc-Major commercial market, sabzi mandi details\",\n",
    "                     kind=\"bar\",colormap=colors,show_figure=False)"
   ]
  },
  {
   "cell_type": "code",
   "execution_count": 54,
   "id": "8e53f862",
   "metadata": {},
   "outputs": [],
   "source": [
    "# SolidWaste-CollectionVehicle_1_PimpriChinchwad\n",
    "df9 = df9.dropna(axis = 1)\n",
    "df9a = df9.drop([\"Collection Vehicle details-Frequency of trips (Daily, Biweekly, Fortnightly, Monthly)\",\n",
    "          \"Collection Vehicle details-Type of Waste collection vehicle\", \"Ward name\",\"City Name\"], axis = 1)\n",
    "p15 = df9a.groupby(\"Zone Name\").sum().plot_bokeh(y=\"Waste Quantity (TPD)\",\n",
    "                     kind=\"bar\",colormap=colors,show_figure=False)"
   ]
  },
  {
   "cell_type": "code",
   "execution_count": 55,
   "id": "c89e85ed",
   "metadata": {},
   "outputs": [],
   "source": [
    "#Public_Toilets_Coverage #No problematic observation\n",
    "df13 = df13.drop(['Ward Name','CityName'], axis = 1)\n",
    "df13 = df13.fillna(0)\n",
    "df13[\"Number of paid public toilets_Female\"] = df13[\"Number of paid public toilets_Female\"].apply(np.int64)\n",
    "df13[\"Number of paid public toilets_Male\"] = df13[\"Number of paid public toilets_Male\"].apply(np.int64)\n",
    "df13[\"Number of paid toilets having onsite disposal systems\"] = df13[\"Number of paid toilets having onsite disposal systems\"].apply(np.int64)"
   ]
  },
  {
   "cell_type": "code",
   "execution_count": 56,
   "id": "e8738ad1",
   "metadata": {
    "scrolled": true
   },
   "outputs": [],
   "source": [
    "p16 = df1.groupby(\"Zone \").count().plot_bokeh(y=\"Total\",\n",
    "                     kind=\"bar\",colormap=colors,show_figure=False)\n",
    "p17 = df1.groupby(\"User Charges Collected\").count().plot_bokeh(y=\"Total\",\n",
    "                     kind=\"bar\",colormap=colors,show_figure=False)"
   ]
  },
  {
   "cell_type": "code",
   "execution_count": null,
   "id": "fc61c742",
   "metadata": {
    "scrolled": false
   },
   "outputs": [],
   "source": [
    "pandas_bokeh.plot_grid([[p1,p2,p3],[p4,p5,p6],[p7,p8,p9],[p10,p11,p12],\n",
    "                       [p13,p14,p15],[p16,p17]], width=400)"
   ]
  },
  {
   "cell_type": "code",
   "execution_count": null,
   "id": "05105453",
   "metadata": {},
   "outputs": [],
   "source": [
    "pandas_bokeh.output_file(filename= \"index\")"
   ]
  }
 ],
 "metadata": {
  "kernelspec": {
   "display_name": "Python 3 (ipykernel)",
   "language": "python",
   "name": "python3"
  },
  "language_info": {
   "codemirror_mode": {
    "name": "ipython",
    "version": 3
   },
   "file_extension": ".py",
   "mimetype": "text/x-python",
   "name": "python",
   "nbconvert_exporter": "python",
   "pygments_lexer": "ipython3",
   "version": "3.9.5"
  }
 },
 "nbformat": 4,
 "nbformat_minor": 5
}
